{
 "cells": [
  {
   "cell_type": "code",
   "execution_count": 1,
   "metadata": {},
   "outputs": [
    {
     "name": "stderr",
     "output_type": "stream",
     "text": [
      "D:\\project\\NLP-Labs\\Assignment-07\\AS07_env\\lib\\site-packages\\tensorflow\\python\\framework\\dtypes.py:526: FutureWarning: Passing (type, 1) or '1type' as a synonym of type is deprecated; in a future version of numpy, it will be understood as (type, (1,)) / '(1,)type'.\n",
      "  _np_qint8 = np.dtype([(\"qint8\", np.int8, 1)])\n",
      "D:\\project\\NLP-Labs\\Assignment-07\\AS07_env\\lib\\site-packages\\tensorflow\\python\\framework\\dtypes.py:527: FutureWarning: Passing (type, 1) or '1type' as a synonym of type is deprecated; in a future version of numpy, it will be understood as (type, (1,)) / '(1,)type'.\n",
      "  _np_quint8 = np.dtype([(\"quint8\", np.uint8, 1)])\n",
      "D:\\project\\NLP-Labs\\Assignment-07\\AS07_env\\lib\\site-packages\\tensorflow\\python\\framework\\dtypes.py:528: FutureWarning: Passing (type, 1) or '1type' as a synonym of type is deprecated; in a future version of numpy, it will be understood as (type, (1,)) / '(1,)type'.\n",
      "  _np_qint16 = np.dtype([(\"qint16\", np.int16, 1)])\n",
      "D:\\project\\NLP-Labs\\Assignment-07\\AS07_env\\lib\\site-packages\\tensorflow\\python\\framework\\dtypes.py:529: FutureWarning: Passing (type, 1) or '1type' as a synonym of type is deprecated; in a future version of numpy, it will be understood as (type, (1,)) / '(1,)type'.\n",
      "  _np_quint16 = np.dtype([(\"quint16\", np.uint16, 1)])\n",
      "D:\\project\\NLP-Labs\\Assignment-07\\AS07_env\\lib\\site-packages\\tensorflow\\python\\framework\\dtypes.py:530: FutureWarning: Passing (type, 1) or '1type' as a synonym of type is deprecated; in a future version of numpy, it will be understood as (type, (1,)) / '(1,)type'.\n",
      "  _np_qint32 = np.dtype([(\"qint32\", np.int32, 1)])\n",
      "D:\\project\\NLP-Labs\\Assignment-07\\AS07_env\\lib\\site-packages\\tensorflow\\python\\framework\\dtypes.py:535: FutureWarning: Passing (type, 1) or '1type' as a synonym of type is deprecated; in a future version of numpy, it will be understood as (type, (1,)) / '(1,)type'.\n",
      "  np_resource = np.dtype([(\"resource\", np.ubyte, 1)])\n"
     ]
    }
   ],
   "source": [
    "from ckiptagger import WS\n",
    "from collections import Counter\n",
    "import json\n",
    "import re"
   ]
  },
  {
   "cell_type": "markdown",
   "metadata": {},
   "source": [
    "### data input"
   ]
  },
  {
   "cell_type": "code",
   "execution_count": 2,
   "metadata": {},
   "outputs": [],
   "source": [
    "def get_data(path):\n",
    "    with open(path, 'r', encoding='utf-8') as f:\n",
    "        data = json.load(f)\n",
    "    return data"
   ]
  },
  {
   "cell_type": "code",
   "execution_count": 3,
   "metadata": {},
   "outputs": [],
   "source": [
    "def write_counter(counter, filename):\n",
    "    with open(filename, 'w+', encoding='utf-8') as f:\n",
    "        N = sum(counter.values())\n",
    "        for word, count in counter.most_common():\n",
    "            f.write('{}\\t{}\\t{:7.4f}%\\n'.format(word, count, count/N*100))"
   ]
  },
  {
   "cell_type": "code",
   "execution_count": 4,
   "metadata": {},
   "outputs": [],
   "source": [
    "data1 = get_data('肺炎.json')['result']\n",
    "data2 = get_data('武漢肺炎.json')['result']\n",
    "data3 = get_data('新冠肺炎.json')['result']"
   ]
  },
  {
   "cell_type": "code",
   "execution_count": 5,
   "metadata": {},
   "outputs": [
    {
     "name": "stdout",
     "output_type": "stream",
     "text": [
      "[{'title': '武漢肺炎蔓延中該如何預防？一次看懂新型、SARS、MERS的差別', 'content': '近來引發關注的中國大陸武漢不明原因肺炎，根據中國大陸提供的資訊，病原體初步\\n判定為新型冠狀病毒，它與過往的SARS、MERS又有什麼不同？我們該如何預防？'}, {'title': '衛生福利部疾病管制署: 首頁', 'content': '中國大陸武漢發生肺炎疫情 ... 500 1000 1500 2000 12/31 通報日 通報數 擴大監測\\n送驗 居家檢疫送驗 法定傳染病通報 COVID-19(武漢肺炎) 監測趨勢圖-依通報來源.'}]\n",
      "[{'title': '嚴重特殊傳染性肺炎- 衛生福利部疾病管制署', 'content': '2020年1月9日 ... 2019年12月以來，湖北省武漢市展開呼吸道疾病及相關疾病監測，發現不明原因\\n病毒性肺炎病例。個案臨床表現主要為發熱，少數病人呼吸困難，\\xa0...'}, {'title': '武漢肺炎即時疫情最新整理不斷更新懶人包', 'content': '武漢肺炎延燒，目前最新確診人數、死亡人數有多少？想得到最新最快最正確的新冠\\n肺炎數據，請看Yahoo整理的新冠肺炎即時疫情數據整理。'}]\n",
      "[{'title': '新冠肺炎特別報導- 中時電子報', 'content': '武漢肺炎/新冠肺炎covid-19最新新聞,疫情統計追蹤,特別報導-中時電子報.'}, {'title': '武漢肺炎即時疫情最新整理不斷更新懶人包', 'content': '武漢肺炎延燒，目前最新確診人數、死亡人數有多少？想得到最新最快最正確的新冠\\n肺炎數據，請看Yahoo整理的新冠肺炎即時疫情數據整理。'}]\n"
     ]
    }
   ],
   "source": [
    "print(data1[:2])\n",
    "print(data2[:2])\n",
    "print(data3[:2])"
   ]
  },
  {
   "cell_type": "code",
   "execution_count": 6,
   "metadata": {},
   "outputs": [],
   "source": [
    "titles1 = [news['title'] for news in data1]\n",
    "content1 = [news['content'] for news in data1]\n",
    "titles2 = [news['title'] for news in data2]\n",
    "content2 = [news['content'] for news in data2]\n",
    "titles3 = [news['title'] for news in data3]\n",
    "content3 = [news['content'] for news in data3]"
   ]
  },
  {
   "cell_type": "markdown",
   "metadata": {},
   "source": [
    "### brute-force get grams"
   ]
  },
  {
   "cell_type": "code",
   "execution_count": 7,
   "metadata": {},
   "outputs": [],
   "source": [
    "def ngram(sentences, n):\n",
    "    grams = []\n",
    "    for sent in sentences:\n",
    "        grams.extend([sent[i:i+n] for i in range(len(sent)-n+1)])\n",
    "    return grams"
   ]
  },
  {
   "cell_type": "code",
   "execution_count": 8,
   "metadata": {},
   "outputs": [],
   "source": [
    "prune_content1 = [re.findall(r'\\w+', sent) for sent in titles1+content1]\n",
    "prune_content2 = [re.findall(r'\\w+', sent) for sent in titles2+content2]\n",
    "prune_content3 = [re.findall(r'\\w+', sent) for sent in titles3+content3]"
   ]
  },
  {
   "cell_type": "code",
   "execution_count": 9,
   "metadata": {},
   "outputs": [
    {
     "data": {
      "text/plain": [
       "[['武漢肺炎蔓延中該如何預防', '一次看懂新型', 'SARS', 'MERS的差別'],\n",
       " ['衛生福利部疾病管制署', '首頁'],\n",
       " ['針對武漢肺炎研發及製作快篩試劑及疫苗之作為', '科技部']]"
      ]
     },
     "execution_count": 9,
     "metadata": {},
     "output_type": "execute_result"
    }
   ],
   "source": [
    "prune_content1[:3]"
   ]
  },
  {
   "cell_type": "code",
   "execution_count": 10,
   "metadata": {},
   "outputs": [],
   "source": [
    "def get_all_gram(sentences, n):\n",
    "    grams = []\n",
    "    for i in range(2, n+1):\n",
    "        ngrams = [ngram(sent, i) for sent in sentences]\n",
    "        grams += [gram for sent in ngrams for gram in sent]\n",
    "    return grams"
   ]
  },
  {
   "cell_type": "code",
   "execution_count": 11,
   "metadata": {},
   "outputs": [],
   "source": [
    "allgrams1 = get_all_gram(prune_content1, 6)\n",
    "allgrams2 = get_all_gram(prune_content2, 6)\n",
    "allgrams3 = get_all_gram(prune_content3, 6)"
   ]
  },
  {
   "cell_type": "code",
   "execution_count": 13,
   "metadata": {},
   "outputs": [
    {
     "data": {
      "text/plain": [
       "['武漢', '漢肺', '肺炎', '炎蔓', '蔓延', '延中', '中該', '該如', '如何', '何預']"
      ]
     },
     "execution_count": 13,
     "metadata": {},
     "output_type": "execute_result"
    }
   ],
   "source": [
    "allgrams1[:10]"
   ]
  },
  {
   "cell_type": "code",
   "execution_count": 14,
   "metadata": {},
   "outputs": [],
   "source": [
    "c1 = Counter(allgrams1)\n",
    "c2 = Counter(allgrams2)\n",
    "c3 = Counter(allgrams3)"
   ]
  },
  {
   "cell_type": "code",
   "execution_count": 15,
   "metadata": {},
   "outputs": [
    {
     "data": {
      "text/plain": [
       "[('肺炎', 236),\n",
       " ('傳染', 83),\n",
       " ('武漢', 79),\n",
       " ('專區', 79),\n",
       " ('嚴重', 79),\n",
       " ('20', 79),\n",
       " ('染性', 77),\n",
       " ('性肺', 77),\n",
       " ('傳染性', 77),\n",
       " ('染性肺', 77),\n",
       " ('性肺炎', 77),\n",
       " ('傳染性肺', 77),\n",
       " ('染性肺炎', 77),\n",
       " ('傳染性肺炎', 77),\n",
       " ('重特', 76),\n",
       " ('特殊', 76),\n",
       " ('嚴重特', 76),\n",
       " ('重特殊', 76),\n",
       " ('嚴重特殊', 76),\n",
       " ('漢肺', 74)]"
      ]
     },
     "execution_count": 15,
     "metadata": {},
     "output_type": "execute_result"
    }
   ],
   "source": [
    "c1.most_common(20)"
   ]
  },
  {
   "cell_type": "code",
   "execution_count": 16,
   "metadata": {},
   "outputs": [
    {
     "data": {
      "text/plain": [
       "[('肺炎', 247),\n",
       " ('武漢', 186),\n",
       " ('漢肺', 176),\n",
       " ('武漢肺', 176),\n",
       " ('漢肺炎', 175),\n",
       " ('武漢肺炎', 175),\n",
       " ('20', 104),\n",
       " ('疫情', 86),\n",
       " ('19', 74),\n",
       " ('防疫', 67),\n",
       " ('CO', 55),\n",
       " ('OV', 55),\n",
       " ('VI', 55),\n",
       " ('ID', 55),\n",
       " ('COV', 55),\n",
       " ('OVI', 55),\n",
       " ('VID', 55),\n",
       " ('COVI', 55),\n",
       " ('OVID', 55),\n",
       " ('COVID', 55)]"
      ]
     },
     "execution_count": 16,
     "metadata": {},
     "output_type": "execute_result"
    }
   ],
   "source": [
    "c2.most_common(20)"
   ]
  },
  {
   "cell_type": "code",
   "execution_count": 17,
   "metadata": {},
   "outputs": [
    {
     "data": {
      "text/plain": [
       "[('肺炎', 229),\n",
       " ('新冠', 194),\n",
       " ('冠肺', 183),\n",
       " ('新冠肺', 183),\n",
       " ('冠肺炎', 183),\n",
       " ('新冠肺炎', 183),\n",
       " ('20', 121),\n",
       " ('疫情', 70),\n",
       " ('專區', 58),\n",
       " ('02', 55),\n",
       " ('防疫', 51),\n",
       " ('202', 51),\n",
       " ('020', 51),\n",
       " ('2020', 51),\n",
       " ('19', 49),\n",
       " ('0年', 40),\n",
       " ('20年', 39),\n",
       " ('CO', 38),\n",
       " ('020年', 38),\n",
       " ('2020年', 38)]"
      ]
     },
     "execution_count": 17,
     "metadata": {},
     "output_type": "execute_result"
    }
   ],
   "source": [
    "c3.most_common(20)"
   ]
  },
  {
   "cell_type": "markdown",
   "metadata": {},
   "source": [
    "write to output"
   ]
  },
  {
   "cell_type": "code",
   "execution_count": 19,
   "metadata": {},
   "outputs": [],
   "source": [
    "write_counter(c1, 'brute-force-1.out')\n",
    "write_counter(c2, 'brute-force-2.out')\n",
    "write_counter(c3, 'brute-force-3.out')"
   ]
  },
  {
   "cell_type": "markdown",
   "metadata": {},
   "source": [
    "### ckiptagger"
   ]
  },
  {
   "cell_type": "code",
   "execution_count": 20,
   "metadata": {},
   "outputs": [
    {
     "name": "stdout",
     "output_type": "stream",
     "text": [
      "\n",
      "WARNING: The TensorFlow contrib module will not be included in TensorFlow 2.0.\n",
      "For more information, please see:\n",
      "  * https://github.com/tensorflow/community/blob/master/rfcs/20180907-contrib-sunset.md\n",
      "  * https://github.com/tensorflow/addons\n",
      "If you depend on functionality not listed there, please file an issue.\n",
      "\n"
     ]
    }
   ],
   "source": [
    "ws = WS('./data')"
   ]
  },
  {
   "cell_type": "code",
   "execution_count": null,
   "metadata": {},
   "outputs": [],
   "source": [
    "# (not used now)\n",
    "# punctuations = ['！', '？', '｡', '＂', '＃', '＄', '％', '＆', '＇', '（', '）', '＊', '＋', '，', '－', '／', '：', '；', '＜', '＝', '＞', '＠', '［', '＼', '］', '＾', '＿', '｀', '｛', '｜', '｝', '～', '｟', '｠', '｢', '｣', '､', '、', '〃', '》', '「', '」', '『', '』', '【', '】', '〔', '〕', '〖', '〗', '〘', '〙', '〚', '〛', '〜', '〝', '〞', '〟', '〰', '〾', '〿', '–', '—', '‘', '\\'', '‛', '“', '”', '„', '‟', '…', '‧', '﹏', '.']"
   ]
  },
  {
   "cell_type": "code",
   "execution_count": 23,
   "metadata": {},
   "outputs": [],
   "source": [
    "def filter_punc(seg):\n",
    "    return [w for w in seg if re.sub(r'[^\\w]', '', w) != '']"
   ]
  },
  {
   "cell_type": "code",
   "execution_count": 24,
   "metadata": {},
   "outputs": [],
   "source": [
    "seg1 = [filter_punc(sent) for sent in ws(titles1+content1)]\n",
    "seg2 = [filter_punc(sent) for sent in ws(titles2+content2)]\n",
    "seg3 = [filter_punc(sent) for sent in ws(titles3+content3)]"
   ]
  },
  {
   "cell_type": "code",
   "execution_count": 25,
   "metadata": {},
   "outputs": [
    {
     "data": {
      "text/plain": [
       "[['武漢',\n",
       "  '肺炎',\n",
       "  '蔓延',\n",
       "  '中',\n",
       "  '該',\n",
       "  '如何',\n",
       "  '預防',\n",
       "  '一',\n",
       "  '次',\n",
       "  '看懂',\n",
       "  '新型',\n",
       "  'SARS',\n",
       "  'MERS',\n",
       "  '的',\n",
       "  '差別'],\n",
       " ['衛生', '福利部', '疾病', '管制署', '首', '頁'],\n",
       " ['針對', '武漢', '肺炎', '研發', '及', '製作', '快', '篩試劑', '及', '疫苗', '之', '作為', '科技部']]"
      ]
     },
     "execution_count": 25,
     "metadata": {},
     "output_type": "execute_result"
    }
   ],
   "source": [
    "seg1[:3]"
   ]
  },
  {
   "cell_type": "code",
   "execution_count": 26,
   "metadata": {},
   "outputs": [],
   "source": [
    "def get_all_gram(sentences, n):\n",
    "    grams = [w for sent in sentences for w in sent]\n",
    "    for i in range(2, n+1):\n",
    "        grams += [''.join(gram) for gram in ngram(sentences, i)]\n",
    "    return grams"
   ]
  },
  {
   "cell_type": "code",
   "execution_count": 27,
   "metadata": {},
   "outputs": [],
   "source": [
    "allgram1 = get_all_gram(seg1, 3)\n",
    "allgram2 = get_all_gram(seg2, 3)\n",
    "allgram3 = get_all_gram(seg3, 3)"
   ]
  },
  {
   "cell_type": "code",
   "execution_count": 28,
   "metadata": {},
   "outputs": [
    {
     "data": {
      "text/plain": [
       "['武漢', '肺炎', '蔓延', '中', '該', '如何', '預防', '一', '次', '看懂']"
      ]
     },
     "execution_count": 28,
     "metadata": {},
     "output_type": "execute_result"
    }
   ],
   "source": [
    "allgram1[:10]"
   ]
  },
  {
   "cell_type": "code",
   "execution_count": 29,
   "metadata": {},
   "outputs": [],
   "source": [
    "c1 = Counter(allgram1)\n",
    "c2 = Counter(allgram2)\n",
    "c3 = Counter(allgram3)"
   ]
  },
  {
   "cell_type": "code",
   "execution_count": 30,
   "metadata": {},
   "outputs": [
    {
     "data": {
      "text/plain": [
       "[('肺炎', 208),\n",
       " ('專區', 79),\n",
       " ('嚴重', 79),\n",
       " ('武漢', 77),\n",
       " ('傳染性', 77),\n",
       " ('特殊', 76),\n",
       " ('嚴重特殊', 76),\n",
       " ('傳染性肺炎', 76),\n",
       " ('特殊傳染性', 75),\n",
       " ('嚴重特殊傳染性', 75)]"
      ]
     },
     "execution_count": 30,
     "metadata": {},
     "output_type": "execute_result"
    }
   ],
   "source": [
    "c1.most_common(10)"
   ]
  },
  {
   "cell_type": "code",
   "execution_count": 31,
   "metadata": {},
   "outputs": [
    {
     "data": {
      "text/plain": [
       "[('肺炎', 235),\n",
       " ('武漢', 176),\n",
       " ('武漢肺炎', 172),\n",
       " ('疫情', 86),\n",
       " ('防疫', 67),\n",
       " ('因應', 53),\n",
       " ('專區', 51),\n",
       " ('的', 47),\n",
       " ('肺炎疫情', 47),\n",
       " ('及', 46)]"
      ]
     },
     "execution_count": 31,
     "metadata": {},
     "output_type": "execute_result"
    }
   ],
   "source": [
    "c2.most_common(10)"
   ]
  },
  {
   "cell_type": "code",
   "execution_count": 32,
   "metadata": {},
   "outputs": [
    {
     "data": {
      "text/plain": [
       "[('新冠肺炎', 181),\n",
       " ('肺炎', 123),\n",
       " ('新冠', 90),\n",
       " ('疫情', 70),\n",
       " ('的', 60),\n",
       " ('專區', 58),\n",
       " ('新', 50),\n",
       " ('防疫', 50),\n",
       " ('2020年', 38),\n",
       " ('最', 36)]"
      ]
     },
     "execution_count": 32,
     "metadata": {},
     "output_type": "execute_result"
    }
   ],
   "source": [
    "c3.most_common(10)"
   ]
  },
  {
   "cell_type": "markdown",
   "metadata": {},
   "source": [
    "output file"
   ]
  },
  {
   "cell_type": "code",
   "execution_count": 33,
   "metadata": {},
   "outputs": [],
   "source": [
    "write_counter(c1, 'ckiptagger-1.out')\n",
    "write_counter(c2, 'ckiptagger-2.out')\n",
    "write_counter(c3, 'ckiptagger-3.out')"
   ]
  },
  {
   "cell_type": "code",
   "execution_count": null,
   "metadata": {},
   "outputs": [],
   "source": []
  }
 ],
 "metadata": {
  "kernelspec": {
   "display_name": "AS07",
   "language": "python",
   "name": "as07"
  },
  "language_info": {
   "codemirror_mode": {
    "name": "ipython",
    "version": 3
   },
   "file_extension": ".py",
   "mimetype": "text/x-python",
   "name": "python",
   "nbconvert_exporter": "python",
   "pygments_lexer": "ipython3",
   "version": "3.6.8"
  }
 },
 "nbformat": 4,
 "nbformat_minor": 4
}
